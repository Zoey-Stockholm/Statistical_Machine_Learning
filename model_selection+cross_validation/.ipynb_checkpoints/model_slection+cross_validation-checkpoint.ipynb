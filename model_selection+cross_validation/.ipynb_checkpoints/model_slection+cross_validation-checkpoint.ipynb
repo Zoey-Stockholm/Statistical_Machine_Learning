{
 "cells": [
  {
   "cell_type": "markdown",
   "metadata": {},
   "source": [
    "\n",
    "<h1 id=\"Bias-variance-trade-off,-model-selection-and-cross-validation-–-Computer-exercises\">Bias-variance trade-off, model selection and cross validation – Computer exercises<a class=\"anchor-link\" href=\"#Bias-variance-trade-off,-model-selection-and-cross-validation-–-Computer-exercises\">¶</a></h1>\n"
   ]
  },
  {
   "cell_type": "code",
   "execution_count": 1,
   "metadata": {},
   "outputs": [],
   "source": [
    "\n",
    "import pandas as pd\n",
    "import numpy as np\n",
    "import matplotlib.pyplot as plt\n",
    "\n",
    "import sklearn.preprocessing as skl_pre\n",
    "import sklearn.linear_model as skl_lm\n",
    "import sklearn.discriminant_analysis as skl_da\n",
    "import sklearn.neighbors as skl_nb\n",
    "import sklearn.model_selection as skl_ms\n",
    "\n"
   ]
  },
  {
   "cell_type": "markdown",
   "metadata": {},
   "source": [
    "\n",
    "<h2 id=\"6.1-Cross-validation-in-$k$-NN\">6.1 Cross validation in $k$-NN<a class=\"anchor-link\" href=\"#6.1-Cross-validation-in-$k$-NN\">¶</a></h2><p>In this exercise we will return to the <code>biopsy</code> data set also used in Exercise 4.1 (Lesson 4). We will try to determine suitable value of $k$ in $k$-NN for this data. For simplicity, we will only consider the three attributes in columns <code>V3</code>, <code>V4</code>and <code>V5</code> in this problem.</p>\n"
   ]
  },
  {
   "cell_type": "markdown",
   "metadata": {},
   "source": [
    "\n",
    "<h3 id=\"(a)\">(a)<a class=\"anchor-link\" href=\"#(a)\">¶</a></h3><p>Consider all data as training data. Investigate how the training error varies with different values of $k$ (hint: use a <code>for</code>-loop). Which $k$ gives the best result? Is it a good choice of $k$?</p>\n"
   ]
  },
  {
   "cell_type": "code",
   "execution_count": 2,
   "metadata": {},
   "outputs": [],
   "source": [
    "\n",
    "# Load the data\n",
    "# url = 'data/biopsy.csv'\n",
    "url = 'https://uu-sml.github.io/course-sml-public/data/biopsy.csv'\n",
    "biopsy = pd.read_csv(url, dtype={'ID': str}).dropna().reset_index(drop=True)\n",
    "\n"
   ]
  },
  {
   "cell_type": "code",
   "execution_count": 3,
   "metadata": {},
   "outputs": [
    {
     "data": {
      "text/html": [
       "<div>\n",
       "<style scoped>\n",
       "    .dataframe tbody tr th:only-of-type {\n",
       "        vertical-align: middle;\n",
       "    }\n",
       "\n",
       "    .dataframe tbody tr th {\n",
       "        vertical-align: top;\n",
       "    }\n",
       "\n",
       "    .dataframe thead th {\n",
       "        text-align: right;\n",
       "    }\n",
       "</style>\n",
       "<table border=\"1\" class=\"dataframe\">\n",
       "  <thead>\n",
       "    <tr style=\"text-align: right;\">\n",
       "      <th></th>\n",
       "      <th>ID</th>\n",
       "      <th>V1</th>\n",
       "      <th>V2</th>\n",
       "      <th>V3</th>\n",
       "      <th>V4</th>\n",
       "      <th>V5</th>\n",
       "      <th>V6</th>\n",
       "      <th>V7</th>\n",
       "      <th>V8</th>\n",
       "      <th>V9</th>\n",
       "      <th>class</th>\n",
       "    </tr>\n",
       "  </thead>\n",
       "  <tbody>\n",
       "    <tr>\n",
       "      <th>0</th>\n",
       "      <td>1000025</td>\n",
       "      <td>5</td>\n",
       "      <td>1</td>\n",
       "      <td>1</td>\n",
       "      <td>1</td>\n",
       "      <td>2</td>\n",
       "      <td>1.0</td>\n",
       "      <td>3</td>\n",
       "      <td>1</td>\n",
       "      <td>1</td>\n",
       "      <td>benign</td>\n",
       "    </tr>\n",
       "    <tr>\n",
       "      <th>1</th>\n",
       "      <td>1002945</td>\n",
       "      <td>5</td>\n",
       "      <td>4</td>\n",
       "      <td>4</td>\n",
       "      <td>5</td>\n",
       "      <td>7</td>\n",
       "      <td>10.0</td>\n",
       "      <td>3</td>\n",
       "      <td>2</td>\n",
       "      <td>1</td>\n",
       "      <td>benign</td>\n",
       "    </tr>\n",
       "    <tr>\n",
       "      <th>2</th>\n",
       "      <td>1015425</td>\n",
       "      <td>3</td>\n",
       "      <td>1</td>\n",
       "      <td>1</td>\n",
       "      <td>1</td>\n",
       "      <td>2</td>\n",
       "      <td>2.0</td>\n",
       "      <td>3</td>\n",
       "      <td>1</td>\n",
       "      <td>1</td>\n",
       "      <td>benign</td>\n",
       "    </tr>\n",
       "    <tr>\n",
       "      <th>3</th>\n",
       "      <td>1016277</td>\n",
       "      <td>6</td>\n",
       "      <td>8</td>\n",
       "      <td>8</td>\n",
       "      <td>1</td>\n",
       "      <td>3</td>\n",
       "      <td>4.0</td>\n",
       "      <td>3</td>\n",
       "      <td>7</td>\n",
       "      <td>1</td>\n",
       "      <td>benign</td>\n",
       "    </tr>\n",
       "    <tr>\n",
       "      <th>4</th>\n",
       "      <td>1017023</td>\n",
       "      <td>4</td>\n",
       "      <td>1</td>\n",
       "      <td>1</td>\n",
       "      <td>3</td>\n",
       "      <td>2</td>\n",
       "      <td>1.0</td>\n",
       "      <td>3</td>\n",
       "      <td>1</td>\n",
       "      <td>1</td>\n",
       "      <td>benign</td>\n",
       "    </tr>\n",
       "    <tr>\n",
       "      <th>5</th>\n",
       "      <td>1017122</td>\n",
       "      <td>8</td>\n",
       "      <td>10</td>\n",
       "      <td>10</td>\n",
       "      <td>8</td>\n",
       "      <td>7</td>\n",
       "      <td>10.0</td>\n",
       "      <td>9</td>\n",
       "      <td>7</td>\n",
       "      <td>1</td>\n",
       "      <td>malignant</td>\n",
       "    </tr>\n",
       "    <tr>\n",
       "      <th>6</th>\n",
       "      <td>1018099</td>\n",
       "      <td>1</td>\n",
       "      <td>1</td>\n",
       "      <td>1</td>\n",
       "      <td>1</td>\n",
       "      <td>2</td>\n",
       "      <td>10.0</td>\n",
       "      <td>3</td>\n",
       "      <td>1</td>\n",
       "      <td>1</td>\n",
       "      <td>benign</td>\n",
       "    </tr>\n",
       "    <tr>\n",
       "      <th>7</th>\n",
       "      <td>1018561</td>\n",
       "      <td>2</td>\n",
       "      <td>1</td>\n",
       "      <td>2</td>\n",
       "      <td>1</td>\n",
       "      <td>2</td>\n",
       "      <td>1.0</td>\n",
       "      <td>3</td>\n",
       "      <td>1</td>\n",
       "      <td>1</td>\n",
       "      <td>benign</td>\n",
       "    </tr>\n",
       "    <tr>\n",
       "      <th>8</th>\n",
       "      <td>1033078</td>\n",
       "      <td>2</td>\n",
       "      <td>1</td>\n",
       "      <td>1</td>\n",
       "      <td>1</td>\n",
       "      <td>2</td>\n",
       "      <td>1.0</td>\n",
       "      <td>1</td>\n",
       "      <td>1</td>\n",
       "      <td>5</td>\n",
       "      <td>benign</td>\n",
       "    </tr>\n",
       "    <tr>\n",
       "      <th>9</th>\n",
       "      <td>1033078</td>\n",
       "      <td>4</td>\n",
       "      <td>2</td>\n",
       "      <td>1</td>\n",
       "      <td>1</td>\n",
       "      <td>2</td>\n",
       "      <td>1.0</td>\n",
       "      <td>2</td>\n",
       "      <td>1</td>\n",
       "      <td>1</td>\n",
       "      <td>benign</td>\n",
       "    </tr>\n",
       "  </tbody>\n",
       "</table>\n",
       "</div>"
      ],
      "text/plain": [
       "        ID  V1  V2  V3  V4  V5    V6  V7  V8  V9      class\n",
       "0  1000025   5   1   1   1   2   1.0   3   1   1     benign\n",
       "1  1002945   5   4   4   5   7  10.0   3   2   1     benign\n",
       "2  1015425   3   1   1   1   2   2.0   3   1   1     benign\n",
       "3  1016277   6   8   8   1   3   4.0   3   7   1     benign\n",
       "4  1017023   4   1   1   3   2   1.0   3   1   1     benign\n",
       "5  1017122   8  10  10   8   7  10.0   9   7   1  malignant\n",
       "6  1018099   1   1   1   1   2  10.0   3   1   1     benign\n",
       "7  1018561   2   1   2   1   2   1.0   3   1   1     benign\n",
       "8  1033078   2   1   1   1   2   1.0   1   1   5     benign\n",
       "9  1033078   4   2   1   1   2   1.0   2   1   1     benign"
      ]
     },
     "execution_count": 3,
     "metadata": {},
     "output_type": "execute_result"
    }
   ],
   "source": [
    "\n",
    "biopsy[:10]\n",
    "\n"
   ]
  },
  {
   "cell_type": "code",
   "execution_count": 4,
   "metadata": {},
   "outputs": [
    {
     "data": {
      "image/png": "[encoded data removed]",
      "text/plain": [
       "<Figure size 432x288 with 1 Axes>"
      ]
     },
     "metadata": {
      "needs_background": "light"
     },
     "output_type": "display_data"
    }
   ],
   "source": [
    "\n",
    "np.random.seed(1)\n",
    "\n",
    "X = biopsy[['V3', 'V4', 'V5']]\n",
    "y = biopsy['class']\n",
    "\n",
    "misclassification = []\n",
    "\n",
    "K = np.arange(1,200)\n",
    "for k in K:  # Try n_neighbors = 1, 2, ...., 199\n",
    "    model = skl_nb.KNeighborsClassifier(n_neighbors=k)\n",
    "    model.fit(X, y)\n",
    "    prediction = model.predict(X)\n",
    "    misclassification.append(np.mean(prediction != y))\n",
    "\n",
    "plt.plot(K, misclassification)\n",
    "plt.title('training error for kNN')\n",
    "plt.xlabel('k')\n",
    "plt.ylabel('training error')\n",
    "plt.show()\n",
    "\n",
    "#k = 1 has the best performance. That is, however, expected and is not a good measure of which $k$ should be used.\n",
    "\n"
   ]
  },
  {
   "cell_type": "markdown",
   "metadata": {},
   "source": [
    "\n",
    "<h3 id=\"(b)-\">(b) <a id=\"6.1-b\"></a><a class=\"anchor-link\" href=\"#(b)-\">¶</a></h3><p>Split the data randomly into a training and validation set, and see how well you perform on the validation set. (Previously, we have used the terminology \"training\" and \"test\" set. If the other set (not the training set) is used to make design decisions, such as choosing $k$, it is really not a test set, but rather a \"validation\" set. Hence the\n",
    "terminology.) Which $k$ gives the best result?</p>\n"
   ]
  },
  {
   "cell_type": "code",
   "execution_count": null,
   "metadata": {},
   "outputs": [],
   "source": [
    "\n",
    "np.random.seed(1)\n",
    "\n",
    "N = len(X)\n",
    "M = np.ceil(0.7*N).astype(int) # Number of training data\n",
    "\n",
    "idx = np.random.permutation(N)\n",
    "X_train, X_val = X.iloc[idx[:M]], X.iloc[idx[M:]]\n",
    "y_train, y_val = y.iloc[idx[:M]], y.iloc[idx[M:]]\n",
    "\n",
    "# Or use scikit learn\n",
    "# X_train, X_val, y_train, y_val = skl_ms.train_test_split(X, y, test_size=0.3, random_state=1)\n",
    "\n",
    "misclassification = []\n",
    "\n",
    "K = np.arange(1,200) # Try n_neighbors = 1, 2, ...., 199\n",
    "for k in K:\n",
    "    model = skl_nb.KNeighborsClassifier(n_neighbors=k)\n",
    "    model.fit(X_train, y_train)\n",
    "    prediction = model.predict(X_val)\n",
    "    misclassification.append(np.mean(prediction != y_val))\n",
    "\n",
    "plt.plot(K, misclassification)\n",
    "plt.title('Validation set error for kNN')\n",
    "plt.xlabel('Number of neighbors $k$')\n",
    "plt.ylabel('Validation error')\n",
    "plt.show()\n",
    "\n",
    "# $k$ between 5-50 seems good, but the\n",
    "# result seems noisy and hard to interpret.\n",
    "\n"
   ]
  },
  {
   "cell_type": "markdown",
   "metadata": {},
   "source": [
    "\n",
    "<h3 id=\"(c)\">(c)<a class=\"anchor-link\" href=\"#(c)\">¶</a></h3><p>Perform <a href=\"#6.1-b\">(b)</a> 10 times for different validation sets and average the result. Which $k$ gives the best result?</p>\n"
   ]
  },
  {
   "cell_type": "code",
   "execution_count": null,
   "metadata": {},
   "outputs": [],
   "source": [
    "\n",
    "n_runs = 10\n",
    "K = np.arange(1,200)\n",
    "\n",
    "misclassification = np.zeros((n_runs, len(K)))\n",
    "for i in range(n_runs):\n",
    "    X_train, X_val, y_train, y_val = skl_ms.train_test_split(X, y, test_size=0.3)\n",
    "\n",
    "    for j, k in enumerate(K):\n",
    "        model = skl_nb.KNeighborsClassifier(n_neighbors=k)\n",
    "        model.fit(X_train, y_train)\n",
    "        prediction = model.predict(X_val)\n",
    "        misclassification[i, j] = (np.mean(prediction != y_val))\n",
    "    \n",
    "average_mis = np.mean(misclassification, axis=0)\n",
    "\n",
    "plt.plot(K, average_mis)\n",
    "plt.title('cross validation error for kNN')\n",
    "plt.xlabel('k')\n",
    "plt.ylabel('validation error')\n",
    "plt.show()\n",
    "\n",
    "# The result shows that k between 5 and 35 perfom the best.\n",
    "\n"
   ]
  },
  {
   "cell_type": "markdown",
   "metadata": {},
   "source": [
    "\n",
    "<h3 id=\"(d)\">(d)<a class=\"anchor-link\" href=\"#(d)\">¶</a></h3><p>Perform 10-fold cross-validation by first randomly permute the data set, divide the data set into 10 equally sized parts and loop through them by taking one part as validation set and the rest as training set each time. Which $k$ gives the best result?</p>\n"
   ]
  },
  {
   "cell_type": "code",
   "execution_count": 5,
   "metadata": {},
   "outputs": [
    {
     "data": {
      "image/png": "[encoded data removed]",
      "text/plain": [
       "<Figure size 432x288 with 1 Axes>"
      ]
     },
     "metadata": {
      "needs_background": "light"
     },
     "output_type": "display_data"
    }
   ],
   "source": [
    "\n",
    "# Using Scikit learn KFold\n",
    "n_fold = 10\n",
    "\n",
    "cv = skl_ms.KFold(n_splits=n_fold, random_state=2, shuffle=True)\n",
    "K = np.arange(1,200)\n",
    "misclassification = np.zeros(len(K))\n",
    "for train_index, val_index in cv.split(X):\n",
    "    X_train, X_val = X.iloc[train_index], X.iloc[val_index]\n",
    "    y_train, y_val = y.iloc[train_index], y.iloc[val_index]\n",
    "    \n",
    "    for j, k in enumerate(K):\n",
    "        model = skl_nb.KNeighborsClassifier(n_neighbors=k)\n",
    "        model.fit(X_train, y_train)\n",
    "        prediction = model.predict(X_val)\n",
    "        misclassification[j] += np.mean(prediction != y_val)\n",
    "\n",
    "misclassification /= n_fold\n",
    "plt.plot(K, misclassification)\n",
    "plt.title('Cross validation error for kNN')\n",
    "plt.xlabel('k')\n",
    "plt.ylabel('Validation error')\n",
    "plt.show()\n",
    "\n",
    "# The result shows that k between 5 and 60 perfom the best\n",
    "\n"
   ]
  },
  {
   "cell_type": "markdown",
   "metadata": {},
   "source": [
    "\n",
    "<h2 id=\"6.2-Cross-validation-for-model-choice\">6.2 Cross validation for model choice<a class=\"anchor-link\" href=\"#6.2-Cross-validation-for-model-choice\">¶</a></h2><p>In this problem we will consider the data sets <code>data/pima_tr.csv</code> and <code>data/pima_te.csv</code>. Your task is to do as good prediction as possible for the test set <code>pima_te</code>, but you are only allowed to look at the true output in <code>pima_te</code> once (like in the real life, where you design and implement a method, and then hand it over to the ultimate test, namely the user). Hence, you will have to use <code>pima_tr</code> for both deciding which model to use and training the model.</p>\n",
    "<p>The data set describes the prevalence of diabetes in women at least 21 years old of Pima Indian heritage, living near Phoenix, Arizona, USA. The data set describes, for each individual, whether she has diabetes or not, her age, the diabetes pedigree function (a summary of the diabetes history in her family), BMI, skin thickness, blood pressure, plasma glucose concentration and number of pregnancies.</p>\n",
    "<p>The data frame contains the following columns:<br/>\n",
    "<code>npreg</code> number of pregnancies.<br/>\n",
    "<code>glu</code> plasma glucose concentration in an oral glucose tolerance test.<br/>\n",
    "<code>bp</code> diastolic blood pressure (mm Hg).<br/>\n",
    "<code>skin</code> triceps skin fold thickness (mm).<br/>\n",
    "<code>bmi</code> body mass index (weight in kg/(height in m)\\^2).<br/>\n",
    "<code>ped</code> diabetes pedigree function.<br/>\n",
    "<code>age</code> age in years.<br/>\n",
    "<code>type</code> Yes or No, for diabetic according to WHO criteria.</p>\n"
   ]
  },
  {
   "cell_type": "markdown",
   "metadata": {},
   "source": [
    "\n",
    "<h3 id=\"(a)\">(a)<a class=\"anchor-link\" href=\"#(a)\">¶</a></h3><p>Load the library and familiarize yourself with <code>pima_tr</code></p>\n"
   ]
  },
  {
   "cell_type": "code",
   "execution_count": 6,
   "metadata": {},
   "outputs": [],
   "source": [
    "\n",
    "# Load the datasets\n",
    "# url = 'data/pima_tr.csv'\n",
    "url = 'https://uu-sml.github.io/course-sml-public/data/pima_tr.csv'\n",
    "pima_tr = pd.read_csv(url)\n",
    "\n",
    "# url = 'data/pima_tr.csv'\n",
    "url = 'https://uu-sml.github.io/course-sml-public/data/pima_te.csv'\n",
    "pima_te = pd.read_csv(url)\n",
    "\n"
   ]
  },
  {
   "cell_type": "code",
   "execution_count": 7,
   "metadata": {},
   "outputs": [
    {
     "data": {
      "text/html": [
       "<div>\n",
       "<style scoped>\n",
       "    .dataframe tbody tr th:only-of-type {\n",
       "        vertical-align: middle;\n",
       "    }\n",
       "\n",
       "    .dataframe tbody tr th {\n",
       "        vertical-align: top;\n",
       "    }\n",
       "\n",
       "    .dataframe thead th {\n",
       "        text-align: right;\n",
       "    }\n",
       "</style>\n",
       "<table border=\"1\" class=\"dataframe\">\n",
       "  <thead>\n",
       "    <tr style=\"text-align: right;\">\n",
       "      <th></th>\n",
       "      <th>npreg</th>\n",
       "      <th>glu</th>\n",
       "      <th>bp</th>\n",
       "      <th>skin</th>\n",
       "      <th>bmi</th>\n",
       "      <th>ped</th>\n",
       "      <th>age</th>\n",
       "    </tr>\n",
       "  </thead>\n",
       "  <tbody>\n",
       "    <tr>\n",
       "      <th>count</th>\n",
       "      <td>200.000000</td>\n",
       "      <td>200.000000</td>\n",
       "      <td>200.000000</td>\n",
       "      <td>200.000000</td>\n",
       "      <td>200.000000</td>\n",
       "      <td>200.000000</td>\n",
       "      <td>200.000000</td>\n",
       "    </tr>\n",
       "    <tr>\n",
       "      <th>mean</th>\n",
       "      <td>3.570000</td>\n",
       "      <td>123.970000</td>\n",
       "      <td>71.260000</td>\n",
       "      <td>29.215000</td>\n",
       "      <td>32.310000</td>\n",
       "      <td>0.460765</td>\n",
       "      <td>32.110000</td>\n",
       "    </tr>\n",
       "    <tr>\n",
       "      <th>std</th>\n",
       "      <td>3.366268</td>\n",
       "      <td>31.667225</td>\n",
       "      <td>11.479604</td>\n",
       "      <td>11.724594</td>\n",
       "      <td>6.130212</td>\n",
       "      <td>0.307225</td>\n",
       "      <td>10.975436</td>\n",
       "    </tr>\n",
       "    <tr>\n",
       "      <th>min</th>\n",
       "      <td>0.000000</td>\n",
       "      <td>56.000000</td>\n",
       "      <td>38.000000</td>\n",
       "      <td>7.000000</td>\n",
       "      <td>18.200000</td>\n",
       "      <td>0.085000</td>\n",
       "      <td>21.000000</td>\n",
       "    </tr>\n",
       "    <tr>\n",
       "      <th>25%</th>\n",
       "      <td>1.000000</td>\n",
       "      <td>100.000000</td>\n",
       "      <td>64.000000</td>\n",
       "      <td>20.750000</td>\n",
       "      <td>27.575000</td>\n",
       "      <td>0.253500</td>\n",
       "      <td>23.000000</td>\n",
       "    </tr>\n",
       "    <tr>\n",
       "      <th>50%</th>\n",
       "      <td>2.000000</td>\n",
       "      <td>120.500000</td>\n",
       "      <td>70.000000</td>\n",
       "      <td>29.000000</td>\n",
       "      <td>32.800000</td>\n",
       "      <td>0.372500</td>\n",
       "      <td>28.000000</td>\n",
       "    </tr>\n",
       "    <tr>\n",
       "      <th>75%</th>\n",
       "      <td>6.000000</td>\n",
       "      <td>144.000000</td>\n",
       "      <td>78.000000</td>\n",
       "      <td>36.000000</td>\n",
       "      <td>36.500000</td>\n",
       "      <td>0.616000</td>\n",
       "      <td>39.250000</td>\n",
       "    </tr>\n",
       "    <tr>\n",
       "      <th>max</th>\n",
       "      <td>14.000000</td>\n",
       "      <td>199.000000</td>\n",
       "      <td>110.000000</td>\n",
       "      <td>99.000000</td>\n",
       "      <td>47.900000</td>\n",
       "      <td>2.288000</td>\n",
       "      <td>63.000000</td>\n",
       "    </tr>\n",
       "  </tbody>\n",
       "</table>\n",
       "</div>"
      ],
      "text/plain": [
       "            npreg         glu          bp        skin         bmi         ped  \\\n",
       "count  200.000000  200.000000  200.000000  200.000000  200.000000  200.000000   \n",
       "mean     3.570000  123.970000   71.260000   29.215000   32.310000    0.460765   \n",
       "std      3.366268   31.667225   11.479604   11.724594    6.130212    0.307225   \n",
       "min      0.000000   56.000000   38.000000    7.000000   18.200000    0.085000   \n",
       "25%      1.000000  100.000000   64.000000   20.750000   27.575000    0.253500   \n",
       "50%      2.000000  120.500000   70.000000   29.000000   32.800000    0.372500   \n",
       "75%      6.000000  144.000000   78.000000   36.000000   36.500000    0.616000   \n",
       "max     14.000000  199.000000  110.000000   99.000000   47.900000    2.288000   \n",
       "\n",
       "              age  \n",
       "count  200.000000  \n",
       "mean    32.110000  \n",
       "std     10.975436  \n",
       "min     21.000000  \n",
       "25%     23.000000  \n",
       "50%     28.000000  \n",
       "75%     39.250000  \n",
       "max     63.000000  "
      ]
     },
     "execution_count": 7,
     "metadata": {},
     "output_type": "execute_result"
    }
   ],
   "source": [
    "\n",
    "pima_tr.describe()\n",
    "\n"
   ]
  },
  {
   "cell_type": "markdown",
   "metadata": {},
   "source": [
    "\n",
    "<h3 id=\"(b)\">(b)<a class=\"anchor-link\" href=\"#(b)\">¶</a></h3><p>See how well you can fit the <code>pima_tr</code> with logistic regression, LDA, QDA and k-NN (k = 2). The output is whether an individual has diabetes or not, and the input the remaining variables. What error rate does each method have? Is it a good indicator of which method is preferable?</p>\n"
   ]
  },
  {
   "cell_type": "code",
   "execution_count": 8,
   "metadata": {},
   "outputs": [
    {
     "name": "stdout",
     "output_type": "stream",
     "text": [
      "Error rate for logistic regression: 0.245\n",
      "Error rate for LDA: 0.23\n",
      "Error rate for QDA: 0.23\n",
      "Error rate for kNN: 0.15\n"
     ]
    }
   ],
   "source": [
    "\n",
    "X = pima_tr.drop(columns=['type'])\n",
    "y = pima_tr['type']\n",
    "\n",
    "# logistic regression\n",
    "model = skl_lm.LogisticRegression(solver='liblinear')\n",
    "model.fit(X, y)\n",
    "prediction = model.predict(X)\n",
    "err = np.mean(prediction != y)\n",
    "print('Error rate for logistic regression: ' + str(err))\n",
    "\n",
    "# LDA\n",
    "model = skl_da.LinearDiscriminantAnalysis()\n",
    "model.fit(X, y)\n",
    "prediction = model.predict(X)\n",
    "err = np.mean(prediction != y)\n",
    "print('Error rate for LDA: ' + str(err))\n",
    "\n",
    "# QDA\n",
    "model = skl_da.QuadraticDiscriminantAnalysis()\n",
    "model.fit(X, y)\n",
    "prediction = model.predict(X)\n",
    "err = np.mean(prediction != y)\n",
    "print('Error rate for QDA: ' + str(err))\n",
    "\n",
    "model = skl_nb.KNeighborsClassifier(n_neighbors=2)\n",
    "model.fit(X, y)\n",
    "prediction = model.predict(X)\n",
    "err = np.mean(prediction != y)\n",
    "print('Error rate for kNN: ' + str(err))\n",
    "\n"
   ]
  },
  {
   "cell_type": "markdown",
   "metadata": {},
   "source": [
    "\n",
    "<h3 id=\"(c)\">(c)<a class=\"anchor-link\" href=\"#(c)\">¶</a></h3><p>Instead of <a href=\"#6.2-b\">(b)</a>, perform 10-fold cross-validation by first randomly permute <code>pima_tr</code> and divide it in 10 parts. Then, in a loop with one of the 10 parts held out as validation data, fit logistic regression, LDA, QDA and k-NN (k = 2) to the training data and evaluate the performance on the validation data. Plot your results in a box plot with the error rates. Feel free to play around with the choice of inputs and other settings to improve the performance. Which method does this suggest us to use?</p>\n"
   ]
  },
  {
   "cell_type": "code",
   "execution_count": 9,
   "metadata": {},
   "outputs": [
    {
     "data": {
      "image/png": "[encoded data removed]",
      "text/plain": [
       "<Figure size 432x288 with 1 Axes>"
      ]
     },
     "metadata": {
      "needs_background": "light"
     },
     "output_type": "display_data"
    }
   ],
   "source": [
    "\n",
    "n_fold = 10\n",
    "\n",
    "models = []\n",
    "models.append(skl_lm.LogisticRegression(solver='liblinear'))\n",
    "models.append(skl_da.LinearDiscriminantAnalysis())\n",
    "models.append(skl_da.QuadraticDiscriminantAnalysis())\n",
    "models.append(skl_nb.KNeighborsClassifier(n_neighbors=2))\n",
    "\n",
    "misclassification = np.zeros((n_fold, len(models)))\n",
    "cv = skl_ms.KFold(n_splits=n_fold, random_state=1, shuffle=True)\n",
    "\n",
    "for i, (train_index, val_index) in enumerate(cv.split(X)):\n",
    "    X_train, X_val = X.iloc[train_index], X.iloc[val_index]\n",
    "    y_train, y_val = y.iloc[train_index], y.iloc[val_index]\n",
    "    \n",
    "    for m in range(np.shape(models)[0]):  # try different models\n",
    "        model = models[m]\n",
    "        model.fit(X_train, y_train)\n",
    "        prediction = model.predict(X_val)\n",
    "        misclassification[i, m] = np.mean(prediction != y_val)\n",
    "\n",
    "plt.boxplot(misclassification)\n",
    "plt.title('cross validation error for different methods')\n",
    "plt.xticks(np.arange(4)+1, ('logReg', 'LDA', 'QDA', 'kNN'))\n",
    "plt.ylabel('validation error')\n",
    "plt.show()\n",
    "\n"
   ]
  },
  {
   "cell_type": "markdown",
   "metadata": {},
   "source": [
    "\n",
    "<h3 id=\"d)-\">d) <a id=\"6.4-d\"></a><a class=\"anchor-link\" href=\"#d)-\">¶</a></h3><p>Now, decide which method to choose and train it on the entire data set <code>pima_tr</code> and predict <code>pima_te</code>. How well do you perform?</p>\n"
   ]
  },
  {
   "cell_type": "code",
   "execution_count": null,
   "metadata": {},
   "outputs": [],
   "source": [
    "\n",
    " \n",
    "\n"
   ]
  },
  {
   "cell_type": "markdown",
   "metadata": {},
   "source": [
    "\n",
    "<h3 id=\"(e)\">(e)<a class=\"anchor-link\" href=\"#(e)\">¶</a></h3><p>Now, since we are in a simulated environment, we can cheat and break the rule that we were only allowed to look at the true output in <code>pima_te</code> once. That is, explore how well the other methods do when you train them on <code>pima_tr</code> and predict <code>pima_te</code>. Did you make the \"right\" choice in <a href=\"#6.4-d\">(d)</a>?</p>\n"
   ]
  },
  {
   "cell_type": "code",
   "execution_count": 10,
   "metadata": {},
   "outputs": [
    {
     "name": "stdout",
     "output_type": "stream",
     "text": [
      "Error rate for logistic regression: 0.250\n",
      "Error rate for LDA: 0.202\n",
      "Error rate for QDA: 0.229\n",
      "Error rate for kNN: 0.316\n"
     ]
    }
   ],
   "source": [
    "\n",
    "X_test = pima_te.drop(columns=['type'])\n",
    "y_test = pima_te['type']\n",
    "\n",
    "# Logistic regression\n",
    "model = skl_lm.LogisticRegression(solver='liblinear')\n",
    "model.fit(X, y)\n",
    "prediction = model.predict(X_test)\n",
    "err = np.mean(prediction != y_test)\n",
    "print(f'Error rate for logistic regression: {err:.3f}')\n",
    "\n",
    "# LDA\n",
    "model = skl_da.LinearDiscriminantAnalysis()\n",
    "model.fit(X, y)\n",
    "prediction = model.predict(X_test)\n",
    "err = np.mean(prediction != y_test)\n",
    "print(f'Error rate for LDA: {err:.3f}')\n",
    "\n",
    "# QDA\n",
    "model = skl_da.QuadraticDiscriminantAnalysis()\n",
    "model.fit(X, y)\n",
    "prediction = model.predict(X_test)\n",
    "err = np.mean(prediction != y_test)\n",
    "print(f'Error rate for QDA: {err:.3f}')\n",
    "\n",
    "model = skl_nb.KNeighborsClassifier(n_neighbors=1)\n",
    "model.fit(X, y)\n",
    "prediction = model.predict(X_test)\n",
    "err = np.mean(prediction != y_test)\n",
    "print(f'Error rate for kNN: {err:.3f}')\n",
    "\n"
   ]
  },
  {
   "cell_type": "markdown",
   "metadata": {},
   "source": [
    "\n",
    "<h2 id=\"6.3-Implementing-problem-5.3\">6.3 Implementing problem 5.3<a class=\"anchor-link\" href=\"#6.3-Implementing-problem-5.3\">¶</a></h2><p>Verify your theoretical findings from problem 5.3 by repeating the experiment $N$ times and approximating all expected values with sums. Let $\\sigma^2=1$.</p>\n"
   ]
  },
  {
   "cell_type": "markdown",
   "metadata": {},
   "source": [
    "\n",
    "<h3 id=\"a)\">a)<a class=\"anchor-link\" href=\"#a)\">¶</a></h3><p>Generate training data ($n=1$), estimate $\\theta_0$ and compute $\\widehat y(x_\\star;\\mathcal{T})$. Repeat $N$ times and store the results in a vector. Choose the regularization parameter yourself.</p>\n"
   ]
  },
  {
   "cell_type": "code",
   "execution_count": 11,
   "metadata": {},
   "outputs": [],
   "source": [
    "\n",
    "N = 1000 # number of Monte Carlo samples to replace an integral/expected value\n",
    "sigma2 = 1 # noise variance\n",
    "r = 0.1 # regularization parameter\n",
    "\n",
    "yhat = np.zeros(N)\n",
    "for i in range(N):\n",
    "    y = 1+np.sqrt(sigma2)*np.random.normal()\n",
    "    beta0 = y/(1+r)\n",
    "    yhat[i] = beta0\n",
    "\n"
   ]
  },
  {
   "cell_type": "markdown",
   "metadata": {},
   "source": [
    "\n",
    "<h3 id=\"b)\">b)<a class=\"anchor-link\" href=\"#b)\">¶</a></h3><p>Estimate $\\bar{f}(x_\\star)=\\mathbb{E}_\\mathcal{T}[y(x_\\star;\\mathcal{T})]$ from your vector of $\\widehat y(x_\\star,\\mathcal{T})$. Compare your result to your theoretical findings in 5.3b.</p>\n"
   ]
  },
  {
   "cell_type": "code",
   "execution_count": 12,
   "metadata": {},
   "outputs": [
    {
     "name": "stdout",
     "output_type": "stream",
     "text": [
      "0.9411037659410677\n"
     ]
    }
   ],
   "source": [
    "\n",
    "g = np.mean(yhat)\n",
    "print(g)\n",
    "\n"
   ]
  },
  {
   "cell_type": "markdown",
   "metadata": {},
   "source": [
    "\n",
    "<h3 id=\"c)\">c)<a class=\"anchor-link\" href=\"#c)\">¶</a></h3><p>Estimate the square bias $\\mathbb{E}_\\star[(\\bar{f}(x_\\star)-f_0(x_\\star))^2]$ using your result from b) and your knowledge about the true $f_0(x)$. Compare your result to your theoretical findings in 5.3c.</p>\n"
   ]
  },
  {
   "cell_type": "code",
   "execution_count": 13,
   "metadata": {},
   "outputs": [
    {
     "data": {
      "text/plain": [
       "0.0034687663863245365"
      ]
     },
     "execution_count": 13,
     "metadata": {},
     "output_type": "execute_result"
    }
   ],
   "source": [
    "\n",
    "bias2 = (g-1)**2 #since neither f nor g depends on x_star,\n",
    "# the expectation over x_star is not needed\n",
    "bias2\n",
    "\n"
   ]
  },
  {
   "cell_type": "markdown",
   "metadata": {},
   "source": [
    "\n",
    "<h3 id=\"d)\">d)<a class=\"anchor-link\" href=\"#d)\">¶</a></h3><p>Estimate the variance $\\mathbb{E}_\\star[\\mathbb{E}_\\mathcal{T}[(\\widehat y (x_\\star;\\mathcal{T}) - \\bar f(x_\\star))^2]]$ using your vector of $\\widehat y(x_\\star;\\mathcal{T})$ from a) and your result from b). Compare your result to your theoretical findings in 5.3d.</p>\n"
   ]
  },
  {
   "cell_type": "code",
   "execution_count": 14,
   "metadata": {},
   "outputs": [
    {
     "data": {
      "text/plain": [
       "0.7979862136186099"
      ]
     },
     "execution_count": 14,
     "metadata": {},
     "output_type": "execute_result"
    }
   ],
   "source": [
    "\n",
    "var = np.mean((yhat-g)**2) #since neither yhat nor g depends on x_star,\n",
    "# the expectation over x_star is not needed\n",
    "var\n",
    "\n"
   ]
  },
  {
   "cell_type": "markdown",
   "metadata": {},
   "source": [
    "\n",
    "<h3 id=\"e)\">e)<a class=\"anchor-link\" href=\"#e)\">¶</a></h3><p>Estimate the expected new data error $\\bar E_\\text{new} = \\mathbb{E}_\\mathcal{T}[E_\\text{new}] = \\mathbb{E}_\\mathcal{T}[\\mathbb{E}_\\star[(y(x_\\star;\\mathcal{T})-\\bar{f}(x_\\star))^2]]$ by, for each $\\widehat y(x_\\star;\\mathcal{T})$ in your vector from a), simulate $N$ copies of $y_\\star$. Compare your result to your theoretical findings in 5.3f.</p>\n"
   ]
  },
  {
   "cell_type": "code",
   "execution_count": 15,
   "metadata": {},
   "outputs": [
    {
     "data": {
      "text/plain": [
       "1.8009848103310586"
      ]
     },
     "execution_count": 15,
     "metadata": {},
     "output_type": "execute_result"
    }
   ],
   "source": [
    "\n",
    "enew = np.zeros(N)\n",
    "for i in range(N):\n",
    "    # estimate the new data error for training data i\n",
    "    y_star = 1+np.sqrt(sigma2)*np.random.normal(size=N)\n",
    "    enew[i] = np.mean((yhat[i]-y_star)**2)\n",
    "# estimate the expected new data error (averaging over training data)\n",
    "enew_bar = np.mean(enew)\n",
    "enew_bar\n",
    "\n"
   ]
  },
  {
   "cell_type": "markdown",
   "metadata": {},
   "source": [
    "\n",
    "<h3 id=\"f)\">f)<a class=\"anchor-link\" href=\"#f)\">¶</a></h3><p>Make a loop over different values for the regularization parameter $\\lambda$ and plot bias, variance and $\\bar{E}_\\text{new}$as a function of $\\lambda$. Also plot your theoretical findings from 5.3 in the same plot.</p>\n"
   ]
  },
  {
   "cell_type": "code",
   "execution_count": 16,
   "metadata": {},
   "outputs": [],
   "source": [
    "\n",
    "# different regularization parameters to try\n",
    "m = 100\n",
    "ri = np.logspace(-2,1,m)\n",
    "\n",
    "#pre-allocate vectors\n",
    "bias2 = np.zeros(m)\n",
    "var = np.zeros(m)\n",
    "enew_bar = np.zeros(m)\n",
    "\n",
    "# select variance\n",
    "sigma2 = 1\n",
    "\n",
    "# number of Monte Carlo samples (when replacing integrals with sums)\n",
    "N = 1000\n",
    "\n",
    "# loop over different regularization values\n",
    "for j in range(m):\n",
    "    r = ri[j]\n",
    "    \n",
    "    # generate training data and estimate beta0\n",
    "    yhat = np.zeros(N)\n",
    "    for i in range(N):\n",
    "        y = 1+np.sqrt(sigma2)*np.random.normal()\n",
    "        beta0 = y/(1+r)\n",
    "        yhat[i] = beta0\n",
    "    \n",
    "    g = np.mean(yhat)\n",
    "    \n",
    "    # estimate the squared bias\n",
    "    bias2[j] = (g-1)**2\n",
    "    \n",
    "    # estimate the variance\n",
    "    var[j] = np.mean((yhat-g)**2)\n",
    "    \n",
    "    enew = np.zeros(N)\n",
    "    for i in range(N):\n",
    "        # estimate the new data error (with training data i)\n",
    "        y_star = 1+np.sqrt(sigma2)*np.random.normal(size=N)\n",
    "        enew[i] = np.mean((yhat[i]-y_star)**2)\n",
    "    # estimate the expected new data error (averaging over training data)\n",
    "    enew_bar[j] = np.mean(enew)\n",
    "\n"
   ]
  },
  {
   "cell_type": "code",
   "execution_count": 17,
   "metadata": {},
   "outputs": [
    {
     "data": {
      "image/png": "[encoded data removed]",
      "text/plain": [
       "<Figure size 432x288 with 1 Axes>"
      ]
     },
     "metadata": {
      "needs_background": "light"
     },
     "output_type": "display_data"
    }
   ],
   "source": [
    "\n",
    "plt.semilogx(ri,bias2,'r',label='estimated bias^2')\n",
    "plt.semilogx(ri,var+bias2,'k',label='estimated bias^2+variance')\n",
    "plt.semilogx(ri,enew_bar,'b',label='estimated Enew_bar')\n",
    "plt.semilogx(ri,(ri/(1+ri))**2,':r',label='exact bias^2')\n",
    "plt.semilogx(ri,(ri/(1+ri))**2+(1/(1+ri))**2,':k',label='exact bias^2+variance')\n",
    "plt.semilogx(ri,(ri/(1+ri))**2+(1/(1+ri))**2 + sigma2,':b',label='exact Enew_bar')\n",
    "plt.axis([ri[-1],ri[0],0,3.4])\n",
    "plt.xlabel('regularization parameter $\\gamma$')\n",
    "plt.ylabel('error')\n",
    "plt.legend()\n",
    "plt.show()\n",
    "\n"
   ]
  },
  {
   "cell_type": "markdown",
   "metadata": {},
   "source": [
    "\n",
    "<h2 id=\"6.4-Implementing-problem-5.5\">6.4 Implementing problem 5.5<a class=\"anchor-link\" href=\"#6.4-Implementing-problem-5.5\">¶</a></h2><p>Design an experiment (similarly to 6.3) where you numerically confirm the results from problem 5.5.</p>\n"
   ]
  },
  {
   "cell_type": "code",
   "execution_count": 18,
   "metadata": {},
   "outputs": [
    {
     "name": "stdout",
     "output_type": "stream",
     "text": [
      "0.1981224690907054\n",
      "0.33721609766084637\n",
      "0.5353385667515518\n"
     ]
    }
   ],
   "source": [
    "\n",
    "# number of Monte Carlo samples (when replacing integrals with sums)\n",
    "N = 1000\n",
    "\n",
    "# define true function\n",
    "def f(x):\n",
    "    return x**2\n",
    "  \n",
    "# generate training data and estimate beta0\n",
    "beta = np.zeros((2,N))\n",
    "for i in range(N):\n",
    "    x = np.random.uniform(-1,1,size=2)\n",
    "    y = f(x)\n",
    "    X = np.column_stack((np.ones(2),x))\n",
    "    beta[:,i] = np.linalg.solve(X,y)\n",
    "\n",
    "# define g\n",
    "def g(x_star):\n",
    "    return np.mean(beta[0,:]) + x_star*np.mean(beta[1,:])\n",
    "\n",
    "# estimate the squared bias\n",
    "x_star = np.random.uniform(-1,1,size=N)\n",
    "bias2 = np.mean((g(x_star)-f(x_star))**2)\n",
    "\n",
    "# estimate the variance\n",
    "vari = np.zeros(N)\n",
    "for i in range(N):\n",
    "    # average over training data (test data fix at point i)\n",
    "    yhat = beta[0,:] + beta[1,:]*x_star[i]\n",
    "    vari[i] = np.mean((yhat-g(x_star[i]))**2)\n",
    "# average over test data\n",
    "var = np.mean(vari)\n",
    "\n",
    "# estimate the expected new data error\n",
    "enew = np.zeros(N)\n",
    "for i in range(N):\n",
    "    # average over test data (training data fix)\n",
    "    y_star = f(x_star)\n",
    "    yhat = beta[0,i] + beta[1,i]*x_star\n",
    "    enew[i] = np.mean((yhat-y_star)**2)\n",
    "enew_bar = np.mean(enew)\n",
    "\n",
    "print(bias2)\n",
    "print(var)\n",
    "print(enew_bar)\n",
    "\n"
   ]
  },
  {
   "cell_type": "code",
   "execution_count": null,
   "metadata": {},
   "outputs": [],
   "source": []
  }
 ],
 "metadata": {
  "kernelspec": {
   "display_name": "Python 3",
   "language": "python",
   "name": "python3"
  },
  "language_info": {
   "codemirror_mode": {
    "name": "ipython",
    "version": 3
   },
   "file_extension": ".py",
   "mimetype": "text/x-python",
   "name": "python",
   "nbconvert_exporter": "python",
   "pygments_lexer": "ipython3",
   "version": "3.7.4"
  }
 },
 "nbformat": 4,
 "nbformat_minor": 1
}
