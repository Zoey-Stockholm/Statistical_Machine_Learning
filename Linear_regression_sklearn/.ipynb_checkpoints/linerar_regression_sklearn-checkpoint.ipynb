{
 "cells": [
  {
   "cell_type": "code",
   "execution_count": 1,
   "metadata": {},
   "outputs": [],
   "source": [
    "\n",
    "import numpy as np\n",
    "import pandas as pd\n",
    "import sklearn.linear_model as skl_lm\n",
    "import matplotlib.pyplot as plt\n",
    "\n",
    "# To get nicer plots\n",
    "from IPython.display import set_matplotlib_formats\n",
    "set_matplotlib_formats('svg') # Output as svg. Else you can try png\n",
    "from IPython.core.pylabtools import figsize\n",
    "figsize(10, 6) # Width and hight\n",
    "np.set_printoptions(precision=3);\n",
    "\n"
   ]
  },
  {
   "cell_type": "markdown",
   "metadata": {},
   "source": [
    "\n",
    "<h1 id=\"2.1-Problem-1.1-using-matrix-multiplications\">2.1 Problem 1.1 using matrix multiplications<a class=\"anchor-link\" href=\"#2.1-Problem-1.1-using-matrix-multiplications\">¶</a></h1><p>Implement the linear regression problems from Exercises 1.1(a), (b), (c), (d) and (e) in Python using matrix multiplications.\n",
    "A matrix\n",
    "$$\n",
    "\\textbf{X} =  \\begin{bmatrix}\n",
    "    1 &amp; 2 \\\\\n",
    "    1 &amp; 3 \\\\ \n",
    "\\end{bmatrix}\n",
    "$$\n",
    "can be constructed with numpy as <code>X=np.array([[1, 2], [1, 3]])</code> (Make sure that <code>numpy</code> has been imported. Here it is imported as <code>np</code>). The commands for matrix multiplication and transpose in <code>numpy</code> are <code>@</code> or <code>np.matmul</code> and <code>.T</code> or <code>np.transpose()</code> respectively. A system of linear equations $\\textbf{A}x=\\textbf{b}$ can be solved using <code>np.linalg.solve(A,b)</code>.  A $k \\times k$ unit matrix can be constructed with <code>np.eye(k)</code>.</p>\n"
   ]
  },
  {
   "cell_type": "markdown",
   "metadata": {},
   "source": [
    "\n",
    "<h2 id=\"(a)-\">(a) <a id=\"2.1-a\"></a><a class=\"anchor-link\" href=\"#(a)-\">¶</a></h2><p>Assume that you record a scalar input $x$ and a scalar output $y$. First, you record $x_1 = 2, y_1 = -1$, and thereafter $x_2 = 3, y_2 = 1$. Assume a linear regression model $y = \\theta_0 + \\theta_1 x + \\epsilon$ and learn the parameters with maximum likelihood $\\widehat{\\boldsymbol{\\theta}}$ with the assumption $\\epsilon \\sim \\mathcal{N}(0,\\sigma_\\epsilon^2)$. Use the model to predict the output for the test input $x_\\star = 4$, and plot the data and the model.</p>\n"
   ]
  },
  {
   "cell_type": "code",
   "execution_count": 2,
   "metadata": {},
   "outputs": [
    {
     "name": "stdout",
     "output_type": "stream",
     "text": [
      "theta_hat = [-5.  2.]\n",
      "y_hat = 3.000\n"
     ]
    },
    {
     "data": {
      "image/png": "[encoded data removed]",
      "text/plain": [
       "<Figure size 432x288 with 1 Axes>"
      ]
     },
     "metadata": {
      "needs_background": "light"
     },
     "output_type": "display_data"
    }
   ],
   "source": [
    "\n",
    "# Construct the data matrix\n",
    "X = np.array([[1, 2], [1, 3]])\n",
    "y = np.array([-1, 1])\n",
    "\n",
    "# Solve the normal equations\n",
    "theta_hat = np.linalg.solve(X.T@X, X.T@y)\n",
    "\n",
    "# Print the solution\n",
    "print(f\"theta_hat = {theta_hat}\")\n",
    "\n",
    "# Compute prediction for x = 4\n",
    "y_hat = theta_hat@np.array([1,4])\n",
    "\n",
    "# Print the prediction\n",
    "print(f\"y_hat = {y_hat:.3f}\")\n",
    "\n",
    "# Plot the data and the model\n",
    "plt.plot(X[:,1], y, 'o')\n",
    "prediction = X@theta_hat\n",
    "plt.plot(X[:,1], prediction);\n",
    "\n"
   ]
  },
  {
   "cell_type": "markdown",
   "metadata": {},
   "source": [
    "\n",
    "<h2 id=\"(b)-\">(b) <a id=\"2.1-b\"></a><a class=\"anchor-link\" href=\"#(b)-\">¶</a></h2><p>Now, assume you have made a third observation $y_3 = 2$ for $x_3 = 4$ (is that what you predicted in <a href=\"#2.1-a\">(a)</a>?). Update the parameters $\\widehat{\\boldsymbol{\\theta}}$ to all 3 data samples, add the new model to the plot (together with the new data point) and find the prediction for $x_\\star = 5$.</p>\n"
   ]
  },
  {
   "cell_type": "code",
   "execution_count": 3,
   "metadata": {},
   "outputs": [
    {
     "name": "stdout",
     "output_type": "stream",
     "text": [
      "theta_hat = [-3.833  1.5  ]\n",
      "y_hat =  3.667\n"
     ]
    },
    {
     "data": {
      "image/png": "[encoded data removed]",
      "text/plain": [
       "<Figure size 432x288 with 1 Axes>"
      ]
     },
     "metadata": {
      "needs_background": "light"
     },
     "output_type": "display_data"
    }
   ],
   "source": [
    "\n",
    "# Construct the data matrices\n",
    "X = np.array([[1, 2], [1, 3], [1, 4]])\n",
    "y = np.array([-1, 1 ,2])\n",
    "\n",
    "# Compute the solution using the normal equation\n",
    "theta_hat = np.linalg.solve(X.T@X,X.T@y)\n",
    "\n",
    "# Print the solution\n",
    "print(f\"theta_hat = {theta_hat}\")\n",
    "\n",
    "# Compute prediction for x = 5\n",
    "y_hat = theta_hat@np.array([1,5])\n",
    "\n",
    "# Print the prediction\n",
    "print(f\"y_hat =  {y_hat:.3f}\")\n",
    "\n",
    "# Plot the data and the model\n",
    "plt.plot(X[:,1], y, 'o')\n",
    "prediction = X@theta_hat\n",
    "plt.plot(X[:,1], prediction);\n",
    "\n"
   ]
  },
  {
   "cell_type": "markdown",
   "metadata": {},
   "source": [
    "\n",
    "<h2 id=\"(c)-\">(c) <a id=\"2.1-c\"></a><a class=\"anchor-link\" href=\"#(c)-\">¶</a></h2><p>Repeat <a href=\"#2.1-b\">(b)</a>, but this time using a model without intercept term, i.e., $y = \\theta_1x + \\epsilon$.</p>\n"
   ]
  },
  {
   "cell_type": "code",
   "execution_count": 4,
   "metadata": {},
   "outputs": [
    {
     "name": "stdout",
     "output_type": "stream",
     "text": [
      "theta_hat = [0.31]\n",
      "y_hat = 1.552\n"
     ]
    },
    {
     "data": {
      "image/png": "[encoded data removed]",
      "text/plain": [
       "<Figure size 432x288 with 1 Axes>"
      ]
     },
     "metadata": {
      "needs_background": "light"
     },
     "output_type": "display_data"
    }
   ],
   "source": [
    "\n",
    "# Consctruct the data matrices\n",
    "# Reshape the array to 2-dim so we can use np.linalg.solve()\n",
    "X = np.array([2, 3, 4]).reshape(-1, 1)\n",
    "y = np.array([-1, 1, 2])\n",
    "\n",
    "# Compute the solution\n",
    "theta_hat = np.linalg.solve(X.T@X,X.T@y)\n",
    "\n",
    "# Print the solution\n",
    "print(f\"theta_hat = {theta_hat}\")\n",
    "\n",
    "# Compute prediction for x = 5\n",
    "y_hat = theta_hat@np.array([5])\n",
    "\n",
    "# Print the prediction\n",
    "print(f\"y_hat = {y_hat:.3f}\")\n",
    "\n",
    "# Plot the data and the model\n",
    "plt.plot(X, y, 'o')\n",
    "prediction = X@theta_hat\n",
    "plt.plot(X, prediction);\n",
    "\n"
   ]
  },
  {
   "cell_type": "markdown",
   "metadata": {},
   "source": [
    "\n",
    "<h2 id=\"(d)-\">(d) <a id=\"2.1-d\"></a><a class=\"anchor-link\" href=\"#(d)-\">¶</a></h2><p>Repeat <a href=\"#2.1-b\">(b)</a>, but this time using Ridge Regression with $\\gamma=1$ instead.</p>\n"
   ]
  },
  {
   "cell_type": "code",
   "execution_count": 5,
   "metadata": {},
   "outputs": [
    {
     "name": "stdout",
     "output_type": "stream",
     "text": [
      "theta_hat = [-0.538  0.462]\n",
      "y_hat = 1.769\n"
     ]
    },
    {
     "data": {
      "image/png": "[encoded data removed]",
      "text/plain": [
       "<Figure size 432x288 with 1 Axes>"
      ]
     },
     "metadata": {
      "needs_background": "light"
     },
     "output_type": "display_data"
    }
   ],
   "source": [
    "\n",
    "# Use the solution to the Ridge Regression problem\n",
    "# Construct the data matrices\n",
    "X = np.array([[1, 2], [1, 3], [1, 4]])\n",
    "y = np.array([-1, 1, 2])\n",
    "lambda_ = 1\n",
    "\n",
    "# Compute the solution\n",
    "theta_hat = np.linalg.solve(X.T@X + np.eye(2),X.T@y)\n",
    "\n",
    "# Print the solution\n",
    "print(f\"theta_hat = {theta_hat}\")\n",
    "\n",
    "# Compute prediction for x = 5\n",
    "y_hat = theta_hat@np.array([1,5])\n",
    "\n",
    "# Print the prediction\n",
    "print(f\"y_hat = {y_hat:.3f}\")\n",
    "\n",
    "# Plot the data and the model\n",
    "plt.plot(X[:,1], y, 'o')\n",
    "prediction = X@theta_hat\n",
    "plt.plot(X[:,1], prediction);\n",
    "\n"
   ]
  },
  {
   "cell_type": "markdown",
   "metadata": {},
   "source": [
    "\n",
    "<h2 id=\"(e)-\">(e) <a id=\"(e)\"></a><a class=\"anchor-link\" href=\"#(e)-\">¶</a></h2><p>You realize that there are actually <em>two</em> output variables in the problem you are studying. In total, you have made the following observations:</p>\n",
    "<table>\n",
    "<thead><tr>\n",
    "<th style=\"text-align:center\">sample</th>\n",
    "<th style=\"text-align:center\">input $x$</th>\n",
    "<th style=\"text-align:center\">first output $y_1$</th>\n",
    "<th style=\"text-align:center\">second output $y_2$</th>\n",
    "</tr>\n",
    "</thead>\n",
    "<tbody>\n",
    "<tr>\n",
    "<td style=\"text-align:center\">(1)</td>\n",
    "<td style=\"text-align:center\">2</td>\n",
    "<td style=\"text-align:center\">-1</td>\n",
    "<td style=\"text-align:center\">0</td>\n",
    "</tr>\n",
    "<tr>\n",
    "<td style=\"text-align:center\">(2)</td>\n",
    "<td style=\"text-align:center\">3</td>\n",
    "<td style=\"text-align:center\">1</td>\n",
    "<td style=\"text-align:center\">2</td>\n",
    "</tr>\n",
    "<tr>\n",
    "<td style=\"text-align:center\">(3)</td>\n",
    "<td style=\"text-align:center\">4</td>\n",
    "<td style=\"text-align:center\">2</td>\n",
    "<td style=\"text-align:center\">-1</td>\n",
    "</tr>\n",
    "</tbody>\n",
    "</table>\n",
    "<p>You want to model this as a linear regression with multidimensional outputs (without regularization), i.e.,\n",
    "$$\\begin{align}\n",
    "    y_1 &amp;= \\theta_{01}+\\theta_{11}x + \\epsilon_1\\\\\n",
    "    y_2 &amp;= \\theta_{02}+\\theta_{12}x + \\epsilon_2\n",
    "\\end{align}$$\n",
    "By introducing, for the general case of $p$ inputs and $q$ outputs, the matrices\n",
    "$$\\begin{align}\n",
    "    \\underbrace{\\begin{bmatrix}\n",
    "        y_{11} &amp; \\cdots &amp; y_{1q} \\\\\n",
    "        y_{21} &amp; \\cdots &amp; y_{2q} \\\\\n",
    "        \\vdots &amp; &amp; \\vdots \\\\\n",
    "        y_{n1} &amp; \\cdots &amp; y_{nq}\n",
    "    \\end{bmatrix}}_{\\boldsymbol{\\mathrm{Y}}}\n",
    "    &amp;=\n",
    "    \\underbrace{\\begin{bmatrix}\n",
    "        1 &amp; x_{11} &amp; x_{12} &amp; \\cdots &amp; x_{1p} \\\\\n",
    "        1 &amp; x_{21} &amp; x_{22} &amp; \\cdots &amp; x_{2p} \\\\\n",
    "        \\vdots     &amp; \\vdots &amp; \\vdots &amp; \\vdots \\\\\n",
    "        1 &amp; x_{n1} &amp; x_{n2} &amp; \\cdots &amp; x_{np} \\\\\n",
    "    \\end{bmatrix}}_{\\boldsymbol{\\mathrm{X}}}\n",
    "    \\underbrace{\\begin{bmatrix}\n",
    "        \\theta_{01} &amp; \\theta_{02} &amp; \\cdots &amp; \\theta_{0q} \\\\\n",
    "        \\theta_{11} &amp; \\theta_{12} &amp; \\cdots &amp; \\theta_{1q} \\\\\n",
    "        \\theta_{21} &amp; \\theta_{22} &amp; \\cdots &amp; \\theta_{2q} \\\\\n",
    "        \\vdots      &amp; \\vdots      &amp;        &amp; \\vdots      \\\\\n",
    "        \\theta_{p1} &amp; \\theta_{p2} &amp; \\cdots &amp; \\theta_{pq}\n",
    "    \\end{bmatrix}}_{\\boldsymbol{\\mathrm{\\Theta}}} + \\boldsymbol{\\epsilon}\n",
    "\\end{align}$$</p>\n",
    "<p>try to make an educated guess how the normal equations can be generalized to the multidemsional output case. (A more thorough derivation is found in problem 1.5). Use your findings to compute the least square solution $\\widehat{\\boldsymbol{\\mathrm{\\Theta}}}$ to the problem now including both the first output $y_1$ and the second output $y_2$.</p>\n"
   ]
  },
  {
   "cell_type": "code",
   "execution_count": 6,
   "metadata": {},
   "outputs": [
    {
     "name": "stdout",
     "output_type": "stream",
     "text": [
      "Theta_hat =\n",
      "[[-3.833  1.833]\n",
      " [ 1.5   -0.5  ]]\n"
     ]
    }
   ],
   "source": [
    "\n",
    "# Construct the data matrices\n",
    "X = np.array([[1, 2], [1, 3], [1, 4]])\n",
    "Y = np.array([[-1, 0], [1, 2], [2, -1]])\n",
    "\n",
    "# Compute the solution\n",
    "Theta_hat = np.linalg.solve(X.T@X,X.T@Y)\n",
    "\n",
    "# Print the solution\n",
    "print(f\"Theta_hat =\\n{Theta_hat}\")\n",
    "\n"
   ]
  },
  {
   "cell_type": "markdown",
   "metadata": {},
   "source": [
    "\n",
    "<h1 id=\"2.2-Problem-1.1-using-the-linear_model.LinearRegression()-command\">2.2 Problem 1.1 using the linear_model.LinearRegression() command<a class=\"anchor-link\" href=\"#2.2-Problem-1.1-using-the-linear_model.LinearRegression()-command\">¶</a></h1><p>Implement the linear regression problem from Exercises 1.1(b) and (c) using the command <code>LinearRegression()</code> from <code>sklearn.linear_model</code>.</p>\n"
   ]
  },
  {
   "cell_type": "markdown",
   "metadata": {},
   "source": [
    "\n",
    "<h2 id=\"(b)\">(b)<a class=\"anchor-link\" href=\"#(b)\">¶</a></h2><p><a href=\"#2.1-b\">See above.</a></p>\n"
   ]
  },
  {
   "cell_type": "code",
   "execution_count": 7,
   "metadata": {},
   "outputs": [
    {
     "name": "stdout",
     "output_type": "stream",
     "text": [
      "The coeficient for X is : 1.500\n",
      "The offset is: -3.833\n"
     ]
    },
    {
     "data": {
      "image/png": "[encoded data removed]",
      "text/plain": [
       "<Figure size 432x288 with 1 Axes>"
      ]
     },
     "metadata": {
      "needs_background": "light"
     },
     "output_type": "display_data"
    }
   ],
   "source": [
    "\n",
    "X = np.array([2, 3, 4]).reshape(-1, 1)\n",
    "y = np.array([-1, 1 , 2])\n",
    "\n",
    "# Learn the model using the skl_lm() command\n",
    "model = skl_lm.LinearRegression()\n",
    "model.fit(X, y)\n",
    "\n",
    "# Print the solution\n",
    "print(f'The coeficient for X is : {model.coef_[0]:.3f}')\n",
    "print(f'The offset is: {model.intercept_:.3f}') \n",
    "\n",
    "# Plot the data and the model\n",
    "plt.plot(X, y, 'o')\n",
    "prediction = model.predict(X)\n",
    "plt.plot(X, prediction);\n",
    "\n"
   ]
  },
  {
   "cell_type": "markdown",
   "metadata": {},
   "source": [
    "\n",
    "<h2 id=\"(c)\">(c)<a class=\"anchor-link\" href=\"#(c)\">¶</a></h2><p><a href=\"#2.1-c\">See above.</a></p>\n"
   ]
  },
  {
   "cell_type": "code",
   "execution_count": 8,
   "metadata": {},
   "outputs": [
    {
     "name": "stdout",
     "output_type": "stream",
     "text": [
      "The coeficient for X is : 0.310\n",
      "The offset is: 0.000\n"
     ]
    },
    {
     "data": {
      "image/png": "[encoded data removed]",
      "text/plain": [
       "<Figure size 432x288 with 1 Axes>"
      ]
     },
     "metadata": {
      "needs_background": "light"
     },
     "output_type": "display_data"
    }
   ],
   "source": [
    "\n",
    "# Learn the model using the skl_lm() command without intercept\n",
    "model = skl_lm.LinearRegression(fit_intercept=False)\n",
    "model.fit(X, y)\n",
    "\n",
    "# Print the solution\n",
    "print(f'The coeficient for X is : {model.coef_[0]:.3f}')\n",
    "print(f'The offset is: {model.intercept_:.3f}') \n",
    "\n",
    "# Plot the data and the model\n",
    "plt.plot(X, y, 'o')\n",
    "prediction = model.predict(X)\n",
    "plt.plot(X, prediction);\n",
    "\n"
   ]
  },
  {
   "cell_type": "markdown",
   "metadata": {},
   "source": [
    "\n",
    "<h1 id=\"2.3-The-Auto-data-set\">2.3 The Auto data set<a class=\"anchor-link\" href=\"#2.3-The-Auto-data-set\">¶</a></h1>\n"
   ]
  },
  {
   "cell_type": "markdown",
   "metadata": {},
   "source": [
    "\n",
    "<h2 id=\"(a)\">(a)<a class=\"anchor-link\" href=\"#(a)\">¶</a></h2><p>Load the dataset <code>'data/auto.csv'</code>. Familiarize yourself with the dataset using <code>auto.info()</code>. The dataset:</p>\n",
    "<p><strong>Description</strong>:  Gas mileage, horsepower, and other information for 392 vehicles.<br/>\n",
    "<strong>Format</strong>: A data frame with 392 observations on the following 9 variables.</p>\n",
    "<ul>\n",
    "<li><code>mpg</code>: miles per gallon  </li>\n",
    "<li><code>cylinders</code>: Number of cylinders between 4 and 8</li>\n",
    "<li><code>displacement</code>: Engine displacement (cu. inches)</li>\n",
    "<li><code>horsepower</code>: Engine horsepower</li>\n",
    "<li><code>weight</code>: Vehicle weight (lbs.)</li>\n",
    "<li><code>acceleration</code>: Time to accelerate from 0 to 60 mph (sec.)</li>\n",
    "<li><code>year</code>: Model year (modulo 100)</li>\n",
    "<li><code>origin</code>: Origin of car (1. American, 2. European, 3. Japanese)</li>\n",
    "<li><code>name</code>: Vehicle name<br/>\n",
    "<em>The orginal data contained 408 observations but 16 observations with missing values were removed.</em></li>\n",
    "</ul>\n"
   ]
  },
  {
   "cell_type": "code",
   "execution_count": 9,
   "metadata": {},
   "outputs": [],
   "source": [
    "\n",
    "# Load library\n",
    "# The null values are '?' in the dataset. `na_values=\"?\"` recognize the null values. \n",
    "# There are null values that will mess up the computation. Easier to drop them by `dropna()`.\n",
    "\n",
    "# url = 'data/auto.csv'\n",
    "url = 'https://uu-sml.github.io/course-sml-public/data/auto.csv'\n",
    "\n",
    "auto = pd.read_csv(url, na_values='?').dropna()\n",
    "\n"
   ]
  },
  {
   "cell_type": "code",
   "execution_count": 10,
   "metadata": {},
   "outputs": [
    {
     "name": "stdout",
     "output_type": "stream",
     "text": [
      "<class 'pandas.core.frame.DataFrame'>\n",
      "Int64Index: 392 entries, 0 to 396\n",
      "Data columns (total 9 columns):\n",
      " #   Column        Non-Null Count  Dtype  \n",
      "---  ------        --------------  -----  \n",
      " 0   mpg           392 non-null    float64\n",
      " 1   cylinders     392 non-null    int64  \n",
      " 2   displacement  392 non-null    float64\n",
      " 3   horsepower    392 non-null    float64\n",
      " 4   weight        392 non-null    int64  \n",
      " 5   acceleration  392 non-null    float64\n",
      " 6   year          392 non-null    int64  \n",
      " 7   origin        392 non-null    int64  \n",
      " 8   name          392 non-null    object \n",
      "dtypes: float64(4), int64(4), object(1)\n",
      "memory usage: 30.6+ KB\n"
     ]
    }
   ],
   "source": [
    "\n",
    "auto.info()\n",
    "\n"
   ]
  },
  {
   "cell_type": "markdown",
   "metadata": {},
   "source": [
    "\n",
    "<h2 id=\"(b)\">(b)<a class=\"anchor-link\" href=\"#(b)\">¶</a></h2><p>Divide the data set randomly into two approximately equally sized subsets, <code>train</code> and <code>test</code> by generating the random indices using <code>np.random.choice()</code>.</p>\n"
   ]
  },
  {
   "cell_type": "code",
   "execution_count": 11,
   "metadata": {},
   "outputs": [
    {
     "name": "stdout",
     "output_type": "stream",
     "text": [
      "auto.shape: (392, 9)\n"
     ]
    }
   ],
   "source": [
    "\n",
    "print(f\"auto.shape: {auto.shape}\") #(No. of rows, No. of columns)\n",
    "\n",
    "# Set seed to get reproducible results\n",
    "np.random.seed(1)\n",
    "\n",
    "trainI = np.random.choice(auto.shape[0], size=200, replace=False)\n",
    "trainIndex = auto.index.isin(trainI)\n",
    "train = auto.iloc[trainIndex]\n",
    "test = auto.iloc[~trainIndex]\n",
    "\n"
   ]
  },
  {
   "cell_type": "markdown",
   "metadata": {},
   "source": [
    "\n",
    "<h2 id=\"(c)\">(c)<a class=\"anchor-link\" href=\"#(c)\">¶</a></h2><p>Perform linear regression with <code>mpg</code> as the output and all other variables except name as input. How well (in terms of root-mean-square-error) does the model perform on test data and training data, respectively?</p>\n"
   ]
  },
  {
   "cell_type": "code",
   "execution_count": 12,
   "metadata": {},
   "outputs": [
    {
     "name": "stdout",
     "output_type": "stream",
     "text": [
      "LinearRegression(copy_X=True, fit_intercept=True, n_jobs=None, normalize=False)\n",
      "Train RMSE:\t3.2821\n",
      "Test RMSE:\t3.3370\n"
     ]
    }
   ],
   "source": [
    "\n",
    "# Ignore RuntimeWarning: internal gelsd driver lwork query error. Harmless\n",
    "\n",
    "# Linear regression\n",
    "model = skl_lm.LinearRegression(fit_intercept = True)      # Add an offset   \n",
    "X_train = train[['cylinders', 'displacement', 'horsepower', 'weight',\\\n",
    "                 'acceleration', 'year', 'origin']]\n",
    "Y_train = train['mpg']\n",
    "model.fit(X_train, Y_train)\n",
    "print(model)\n",
    "\n",
    "# Evaluate on training data\n",
    "train_predict = model.predict(X_train)\n",
    "train_RMSE = np.sqrt(np.mean((train_predict - train.mpg)**2))\n",
    "print(f'Train RMSE:\\t{train_RMSE:.4f}')  \n",
    "\n",
    "## Evaluate on test data\n",
    "X_test = test[['cylinders', 'displacement', 'horsepower', 'weight',\\\n",
    "               'acceleration', 'year', 'origin']]\n",
    "test_predict = model.predict(X_test)\n",
    "test_RMSE = np.sqrt(np.mean((test_predict - test.mpg)**2))\n",
    "print(f'Test RMSE:\\t{test_RMSE:.4f}')\n",
    "\n"
   ]
  },
  {
   "cell_type": "markdown",
   "metadata": {},
   "source": [
    "\n",
    "<h2 id=\"(d)\">(d)<a class=\"anchor-link\" href=\"#(d)\">¶</a></h2><p>Now, consider the input variable <code>origin</code>. What do the different numbers represent? By running <code>auto.origin.sample(30)</code> we see the 30 samples of the variable and that the input variables is quantitative. Does it really makes sense to treat it as a quantitative input? Use <code>pd.get_dummies()</code> to split it into dummy variables and do the linear regression again.</p>\n"
   ]
  },
  {
   "cell_type": "code",
   "execution_count": 13,
   "metadata": {},
   "outputs": [
    {
     "name": "stdout",
     "output_type": "stream",
     "text": [
      "auto origin:\n",
      "[1, 1, 1, 1, 1, 2, 1, 3, 1, 2, 3, 1, 3, 2, 3, 1, 1, 1, 1, 1, 1, 1, 1, 1, 1, 1, 1, 1, 1, 3] \n",
      "\n",
      "X after transformation (origin has been split in three dummy variables):\n",
      "    mpg  cylinders  displacement  horsepower  weight  acceleration  year  \\\n",
      "0  18.0          8         307.0       130.0    3504          12.0    70   \n",
      "4  17.0          8         302.0       140.0    3449          10.5    70   \n",
      "5  15.0          8         429.0       198.0    4341          10.0    70   \n",
      "6  14.0          8         454.0       220.0    4354           9.0    70   \n",
      "8  14.0          8         455.0       225.0    4425          10.0    70   \n",
      "\n",
      "                        name  origin_1  origin_2  origin_3  \n",
      "0  chevrolet chevelle malibu         1         0         0  \n",
      "4                ford torino         1         0         0  \n",
      "5           ford galaxie 500         1         0         0  \n",
      "6           chevrolet impala         1         0         0  \n",
      "8           pontiac catalina         1         0         0   \n",
      "\n",
      "     cylinders  displacement  horsepower  weight  acceleration  year  \\\n",
      "98           6         250.0       100.0    3278          18.0    73   \n",
      "285          8         305.0       130.0    3840          15.4    79   \n",
      "236          4         140.0        89.0    2755          15.8    77   \n",
      "213          8         350.0       145.0    4055          12.0    76   \n",
      "373          4         140.0        92.0    2865          16.4    82   \n",
      "\n",
      "     origin_1  origin_2  origin_3  \n",
      "98          1         0         0  \n",
      "285         1         0         0  \n",
      "236         1         0         0  \n",
      "213         1         0         0  \n",
      "373         1         0         0   \n",
      "\n",
      "LinearRegression(copy_X=True, fit_intercept=True, n_jobs=None, normalize=False) \n",
      "\n",
      "Train RMSE:\t3.2630\n",
      "Test RMSE:\t3.3108\n"
     ]
    }
   ],
   "source": [
    "\n",
    "# Examples of the origin variable\n",
    "print('auto origin:')\n",
    "print(auto.origin.sample(30).tolist(), '\\n')\n",
    "\n",
    "X_train = pd.get_dummies(train, columns=['origin']) \n",
    "print('X after transformation (origin has been split in three dummy variables):')\n",
    "print(X_train.head(), '\\n')\n",
    "# Pick out the input variables\n",
    "X_train = X_train[['cylinders', 'displacement', 'horsepower', 'weight',\\\n",
    "                   'acceleration', 'year', 'origin_1', 'origin_2', 'origin_3']]\n",
    "\n",
    "X_test = pd.get_dummies(test, columns=['origin'])\n",
    "X_test = X_test[['cylinders', 'displacement', 'horsepower', 'weight',\\\n",
    "                 'acceleration', 'year', 'origin_1', 'origin_2', 'origin_3']]\n",
    "\n",
    "# look at how sci-kit learn transforms the qualitative input\n",
    "print(X_train.sample(5), '\\n') \n",
    "\n",
    "# Repeat c) create and evaluate the model now using encoded categorical data\n",
    "model1 = skl_lm.LinearRegression()\n",
    "model1.fit(X_train, Y_train)\n",
    "print(model1,'\\n')\n",
    "\n",
    "# Evaluate on training data\n",
    "train_predict = model1.predict(X_train)\n",
    "train_RMSE = np.sqrt(np.mean((train_predict - train.mpg)**2))\n",
    "print(f'Train RMSE:\\t{train_RMSE:.4f}')\n",
    "\n",
    "## Evaluate on test data\n",
    "test_predict = model1.predict(X_test)\n",
    "test_RMSE = np.sqrt(np.mean((test_predict - test.mpg)**2))\n",
    "print(f'Test RMSE:\\t{test_RMSE:.4f}')\n",
    "\n"
   ]
  },
  {
   "cell_type": "markdown",
   "metadata": {},
   "source": [
    "\n",
    "<h2 id=\"(e)\">(e)<a class=\"anchor-link\" href=\"#(e)\">¶</a></h2><p>Try obtain a better RMSE on test data by removing some inputs (explore what happens if you remove, e.g, <code>year</code>, <code>weight</code> and <code>acceleration</code>)</p>\n"
   ]
  },
  {
   "cell_type": "code",
   "execution_count": null,
   "metadata": {},
   "outputs": [],
   "source": [
    "\n",
    "# First write a funcion that takes the prediction model, training and test data\n",
    "# and computes RMSE to simplify the process\n",
    "\n",
    "def computeRMSE(model, X, Y):\n",
    "    Y_predict = model.predict(X)\n",
    "    RMSE = np.sqrt(np.mean((Y_predict - Y)**2))\n",
    "    return RMSE\n",
    "\n",
    "# The following function streamlines the procedure of testing with dropping\n",
    "# different varibles. It is optional. But if you want to skip the function\n",
    "# keep in mind that when you declare e.g. X=X.drop(columns=column_name), \n",
    "# you are manipulating the original X\n",
    "def RMSE_with_drop_col(model, X, Y, X_test, Y_test, drop_col):\n",
    "    # drop_col takes a list of string or strings\n",
    "    print(f'Results without the variable {drop_col}:')\n",
    "    X = X.drop(columns=drop_col)\n",
    "    model.fit(X, Y)\n",
    "    train_RMSE = computeRMSE(model, X, Y)\n",
    "    print(f'Train RMSE: \\t{train_RMSE:.4f}')\n",
    "    \n",
    "    X_test = X_test.drop(columns=drop_col)\n",
    "    test_RMSE = computeRMSE(model, X_test, Y_test)\n",
    "    print(f'Test RMSE:\\t{test_RMSE:.4f}')\n",
    "    print()\n",
    "\n",
    "# Test output (has not been declared)\n",
    "Y_test = test.mpg\n",
    "    \n",
    "# Remove weight\n",
    "model2 = skl_lm.LinearRegression()\n",
    "RMSE_with_drop_col(model2, X_train, Y_train, X_test, Y_test,\\\n",
    "                   ['weight', 'acceleration'])\n",
    "\n",
    "# Remove year\n",
    "model3 = skl_lm.LinearRegression()\n",
    "RMSE_with_drop_col(model3, X_train, Y_train, X_test, Y_test, ['year'])\n",
    "\n",
    "# Remove acceleration\n",
    "model4 = skl_lm.LinearRegression()\n",
    "RMSE_with_drop_col(model4, X_train, Y_train, X_test, Y_test, ['acceleration'])\n",
    "\n"
   ]
  },
  {
   "cell_type": "markdown",
   "metadata": {},
   "source": [
    "\n",
    "<h2 id=\"(f)\">(f)<a class=\"anchor-link\" href=\"#(f)\">¶</a></h2><p>Try to obtain a better RMSE on test data by adding some transformations of inputs, such as \n",
    "$log(x)$, $\\sqrt{x}$, $x_1x_2$ etc.</p>\n"
   ]
  },
  {
   "cell_type": "code",
   "execution_count": null,
   "metadata": {},
   "outputs": [],
   "source": [
    "\n",
    "# A small function to simplify the process\n",
    "def RMSE_with_cols(model, X, Y, cols):\n",
    "    print(f'RMSE with the variables {cols}')\n",
    "    X = X[cols]\n",
    "    model.fit(X, Y)\n",
    "    RMSE = computeRMSE(model, X, Y)\n",
    "    print(f'RMSE\\t{RMSE:.4f}')\n",
    "\n",
    "# horsepower*acceleration\n",
    "print('comp = horsepower * acceleration')\n",
    "model = skl_lm.LinearRegression()\n",
    "X_train_copy = X_train.copy()     # A hard copy to avoid manipulating the original X\n",
    "X_train_copy['comp'] = X_train_copy.horsepower * X_train_copy.acceleration\n",
    "cols = ['cylinders', 'displacement','comp', 'origin_1', 'origin_2', 'origin_3']\n",
    "RMSE_with_cols(model, X_train_copy, Y_train, cols)\n",
    "\n",
    "print()\n",
    "\n",
    "# sqrt(horsepower) and weight^2\n",
    "print('sqrt(horsepower) and weight^2')\n",
    "model = skl_lm.LinearRegression()\n",
    "X_train_copy = X_train.copy()\n",
    "X_train_copy['sqrt_horsepower'] = np.sqrt(X_train_copy.horsepower) \n",
    "X_train_copy['weight_sqr'] = X_train_copy.weight**2\n",
    "cols = ['cylinders', 'displacement','sqrt_horsepower', 'weight_sqr',\\\n",
    "        'origin_1', 'origin_2', 'origin_3']\n",
    "RMSE_with_cols(model, X_train_copy, Y_train, cols)\n",
    "\n"
   ]
  },
  {
   "cell_type": "markdown",
   "metadata": {},
   "source": [
    "\n",
    "<h1 id=\"2.4-Nonlinear-transformations-of-input-variables\">2.4 Nonlinear transformations of input variables<a class=\"anchor-link\" href=\"#2.4-Nonlinear-transformations-of-input-variables\">¶</a></h1>\n"
   ]
  },
  {
   "cell_type": "code",
   "execution_count": null,
   "metadata": {},
   "outputs": [],
   "source": [
    "\n",
    "#Start by running the following code to generate your training data\n",
    "np.random.seed(1)\n",
    "x_train = np.random.uniform(0, 10, 100)\n",
    "y_train = .4 \\\n",
    "          - .6 * x_train \\\n",
    "          + 3. * np.sin(x_train - 1.2) \\\n",
    "          + np.random.normal(0, 0.1, 100)\n",
    "\n"
   ]
  },
  {
   "cell_type": "markdown",
   "metadata": {},
   "source": [
    "\n",
    "<h2 id=\"(a)\">(a)<a class=\"anchor-link\" href=\"#(a)\">¶</a></h2><p>Plot the training output <code>y_train</code> versus the training input <code>x_train</code>.</p>\n"
   ]
  },
  {
   "cell_type": "code",
   "execution_count": null,
   "metadata": {},
   "outputs": [],
   "source": [
    "\n",
    "# Plot\n",
    "plt.plot(x_train, y_train, 'o')\n",
    "plt.title('Training data')\n",
    "plt.xlabel('Input x')\n",
    "plt.ylabel('Output y');\n",
    "\n"
   ]
  },
  {
   "cell_type": "markdown",
   "metadata": {},
   "source": [
    "\n",
    "<h2 id=\"(b)\">(b)<a class=\"anchor-link\" href=\"#(b)\">¶</a></h2><p>Learn a model on the form \n",
    "$$\n",
    "y= a + bx + c \\sin(x + \\phi) + \\epsilon,  \\qquad  \\epsilon \\sim \\mathcal{N}(0, 0,1^2) \\qquad (2.1)\n",
    "$$</p>\n",
    "<p>where all parameters $a$, $b$, $c$ and $\\phi$ are to be learned from the training data <code>x_train</code> and <code>y_train</code>. Refrain from using the<code>linear_model()</code> command, but implement the normal equations yourself as in problem 2.1. Hint: Even though (2.1) is not a linear regression model, you can use the fact that $c \\sin(x + \\phi) = c \\cos(\\phi) \\sin(x) + c \\sin(\\phi) \\cos(x)$ to transform it into one.</p>\n"
   ]
  },
  {
   "cell_type": "code",
   "execution_count": null,
   "metadata": {},
   "outputs": [],
   "source": [
    "\n",
    "X_train = np.column_stack([np.ones(100), x_train,\\\n",
    "                           np.cos(x_train), np.sin(x_train)])\n",
    "#y_train = np.array(y_train).reshape(-1, 1)\n",
    "theta_hat = np.linalg.solve(X_train.T@X_train, X_train.T@y_train)\n",
    "print(f'theta_hat ={theta_hat}')\n",
    "\n"
   ]
  },
  {
   "cell_type": "markdown",
   "metadata": {},
   "source": [
    "\n",
    "<h2 id=\"(c)\">(c)<a class=\"anchor-link\" href=\"#(c)\">¶</a></h2><p>Construct 100 test inputs <code>x_test</code> in the span from 0 to 10 by using the <code>np.linspace()</code> function. Predict the outputs corresponding to these inputs and plot them together with the training data.</p>\n"
   ]
  },
  {
   "cell_type": "code",
   "execution_count": null,
   "metadata": {},
   "outputs": [],
   "source": [
    "\n",
    "# c) Do prediction\n",
    "x_test = np.linspace(0, 10, 100)\n",
    "X_test = np.column_stack([np.ones(100), x_test, np.cos(x_test), np.sin(x_test)])\n",
    "y_test_hat = X_test@theta_hat\n",
    "plt.plot(x_test, y_test_hat, 'o', label='test data')\n",
    "plt.plot(x_train, y_train, 'o', label='training data')\n",
    "plt.legend();\n",
    "\n"
   ]
  },
  {
   "cell_type": "markdown",
   "metadata": {},
   "source": [
    "\n",
    "<h2 id=\"(d)\">(d)<a class=\"anchor-link\" href=\"#(d)\">¶</a></h2><p>Do a least squares fit by instead using the <code>linear_model()</code> function in <code>Python</code>. Check that you get the same estimates as in (b).</p>\n"
   ]
  },
  {
   "cell_type": "code",
   "execution_count": null,
   "metadata": {},
   "outputs": [],
   "source": [
    "\n",
    "model = skl_lm.LinearRegression()\n",
    "model.fit(X_train[:,1:], y_train)\n",
    "prediction = model.predict(X_test[:,1:])\n",
    "\n",
    "# Compute root mean squared error of predictions and learned theta\n",
    "print(f\"RMS y_test_hat:\\t{np.sqrt(np.mean(np.square(prediction-y_test_hat)))}\")\n",
    "print(f\"RMS theta_hat:\\t{np.sqrt(np.mean(np.square(theta_hat - np.hstack((model.intercept_, model.coef_)))))}\")\n",
    "\n"
   ]
  },
  {
   "cell_type": "markdown",
   "metadata": {},
   "source": [
    "\n",
    "<h1 id=\"2.5--Regularization\">2.5  Regularization<a class=\"anchor-link\" href=\"#2.5--Regularization\">¶</a></h1>\n"
   ]
  },
  {
   "cell_type": "markdown",
   "metadata": {},
   "source": [
    "\n",
    "<p>In this exercise we will apply Ridge regression and Lasso for fitting a polynomial to a scalar data set. We will have a setting where we first generate synthetic training data from \n",
    "<a id=\"2.2\"></a>$$\n",
    "y = x^3 + 2x^2 + 6 + \\epsilon, \\qquad (2.2)\n",
    "$$\n",
    "and later try to learn model for the data.</p>\n"
   ]
  },
  {
   "cell_type": "markdown",
   "metadata": {},
   "source": [
    "\n",
    "<h2 id=\"(a)-\">(a) <a id=\"2.5-a\"></a><a class=\"anchor-link\" href=\"#(a)-\">¶</a></h2><p>Write a function that implements the polynomial <a href=\"#2.2\">(2.2)</a>, i.e., takes $x$ as argument and returns $x^3 + 2x^2 + 6$.</p>\n"
   ]
  },
  {
   "cell_type": "code",
   "execution_count": null,
   "metadata": {},
   "outputs": [],
   "source": [
    "\n",
    "def f(x):\n",
    "    return x**3 + 2*x**2 + 6\n",
    "\n"
   ]
  },
  {
   "cell_type": "markdown",
   "metadata": {},
   "source": [
    "\n",
    "<h2 id=\"(b)\">(b)<a class=\"anchor-link\" href=\"#(b)\">¶</a></h2><p>Use <code>np.random.seed()</code> to set the random seed. Use the function <code>np.linspace()</code> to construct a vector <code>x</code> with <code>n = 12</code> elements equally spaced from $-2.3$ to $1$. Then use your function from <a href=\"#2.5-a\">(a)</a> to construct a vector $\\textbf{y} = [y_1, ..., y_n]^T$ with 12 elements, where $y = x^3 + 2x^2 + 6 + \\epsilon$, with $\\epsilon \\sim  \\mathcal{N(0, 1^2)}$. This is our training data.</p>\n"
   ]
  },
  {
   "cell_type": "code",
   "execution_count": null,
   "metadata": {},
   "outputs": [],
   "source": [
    "\n",
    "np.random.seed(0)\n",
    "x_train = np.linspace(-2.3, 1, 12)\n",
    "y_train = f(x_train) + np.random.normal(0, 1, 12)\n",
    "\n"
   ]
  },
  {
   "cell_type": "markdown",
   "metadata": {},
   "source": [
    "\n",
    "<h2 id=\"(c)\">(c)<a class=\"anchor-link\" href=\"#(c)\">¶</a></h2><p>Plot the training data $\\mathcal{T} = \\{x_i, y_i\\}_{i=1}^{12}$ together with the \"true\" function.</p>\n"
   ]
  },
  {
   "cell_type": "code",
   "execution_count": null,
   "metadata": {},
   "outputs": [],
   "source": [
    "\n",
    "x_test = np.linspace(-2.3, 1, 400)\n",
    "y_test = f(x_test)\n",
    "\n",
    "plt.plot(x_train, y_train, 'o', label='data')\n",
    "plt.plot(x_test, y_test, label='true function')\n",
    "plt.legend()\n",
    "plt.show()\n",
    "\n"
   ]
  },
  {
   "cell_type": "markdown",
   "metadata": {},
   "source": [
    "\n",
    "<h2 id=\"(d)\">(d)<a class=\"anchor-link\" href=\"#(d)\">¶</a></h2><p>Fit a straight line to the data with $y$ as output and $x$ as input and plot the predicted output $\\hat{y}_{\\star}$ for densely spaced $x_{\\star}$ values between $-2.3$ and $1$. Plot these predictions in the same plot window.</p>\n"
   ]
  },
  {
   "cell_type": "code",
   "execution_count": null,
   "metadata": {},
   "outputs": [],
   "source": [
    "\n",
    "# Linear regression\n",
    "model = skl_lm.LinearRegression()\n",
    "model.fit(x_train.reshape(-1,1), y_train)\n",
    "prediction = model.predict(x_test.reshape(-1,1))\n",
    "\n",
    "# Plots\n",
    "plt.plot(x_train, y_train, 'o', label='data')\n",
    "plt.plot(x_test, y_test, label='true function')\n",
    "plt.plot(x_test, prediction, label='linear regression')\n",
    "\n",
    "plt.legend()\n",
    "plt.show()\n",
    "\n"
   ]
  },
  {
   "cell_type": "markdown",
   "metadata": {},
   "source": [
    "\n",
    "<h2 id=\"(e)\">(e)<a class=\"anchor-link\" href=\"#(e)\">¶</a></h2><p>Fit an 11th degree polynomial to the data with linear regression. Plot the corresponding predictions.</p>\n"
   ]
  },
  {
   "cell_type": "code",
   "execution_count": null,
   "metadata": {},
   "outputs": [],
   "source": [
    "\n",
    "# x^[0, 1, 2,..., 11]\n",
    "x_train_ext = np.power(x_train.reshape(-1,1), np.arange(12))\n",
    "x_test_ext = np.power(x_test.reshape(-1,1), np.arange(12))\n",
    "\n",
    "model = skl_lm.LinearRegression()\n",
    "model.fit(x_train_ext, y_train)\n",
    "prediction = model.predict(x_test_ext)\n",
    "\n",
    "# Plots\n",
    "plt.plot(x_train, y_train, 'o', label='data')\n",
    "plt.plot(x_test, y_test, label='true function')\n",
    "plt.plot(x_test, prediction, label='linear regression')\n",
    "\n",
    "plt.title('Linear regression - 11th degree polynomial')\n",
    "plt.legend()\n",
    "plt.show()\n",
    "# Fitting an 11th degree polynomial to the data gives zero training error but has overfitted on training data.\n",
    "\n"
   ]
  },
  {
   "cell_type": "markdown",
   "metadata": {},
   "source": [
    "\n",
    "<h2 id=\"(f)\">(f)<a class=\"anchor-link\" href=\"#(f)\">¶</a></h2><p>Use the fucntion <code>sklearn.linear_model.Ridge</code> and <code>sklearn.linear_model.Lasso</code> to fit a 11th degree polynomial. Also inspect the estimated coefficients. Try different values of penalty term $\\alpha$. What do you observe?</p>\n"
   ]
  },
  {
   "cell_type": "code",
   "execution_count": null,
   "metadata": {},
   "outputs": [],
   "source": [
    "\n",
    "# Ridge\n",
    "\n",
    "plt.plot(x_train, y_train, 'o', label='data')\n",
    "plt.plot(x_test, y_test, label='true function')\n",
    "print('Model coefficients:')\n",
    "for alpha in [0, 1, 10, 100, 1000]:\n",
    "    model = skl_lm.Ridge(alpha=alpha)    \n",
    "    model.fit(x_train_ext, y_train)\n",
    "    print(f'\\u03b1 = {alpha}')\n",
    "    print(model.coef_)\n",
    "\n",
    "    prediction = model.predict(x_test_ext)\n",
    "  \n",
    "    plt.plot(x_test, prediction, label=f'\\u03b1 = {alpha}')\n",
    "\n",
    "plt.title('Ridge regression - 11th degree polynomial')\n",
    "plt.ylim([4,10])\n",
    "plt.legend()\n",
    "plt.show()\n",
    "\n"
   ]
  },
  {
   "cell_type": "code",
   "execution_count": null,
   "metadata": {},
   "outputs": [],
   "source": [
    "\n",
    "# Lasso\n",
    "plt.plot(x_train, y_train, 'o', label='data')\n",
    "plt.plot(x_test, y_test, label='true function')\n",
    "print(\"Model coefficients:\")\n",
    "for alpha in [0.001, 0.1, 1, 10]:\n",
    "    model = skl_lm.Lasso(alpha=alpha)\n",
    "    model.fit(x_train_ext, y_train)\n",
    "    print(f'\\u03b1 = {alpha}:', model.coef_)\n",
    "    \n",
    "    prediction = model.predict(x_test_ext)\n",
    "    plt.plot(x_test, prediction, label=f'\\u03b1 = {alpha}')\n",
    "\n",
    "    plt.title('Lasso - 11th degree polynomial')\n",
    "plt.legend()\n",
    "plt.show()\n",
    "\n"
   ]
  },
  {
   "cell_type": "code",
   "execution_count": null,
   "metadata": {},
   "outputs": [],
   "source": [
    "\n",
    "# α = 0.01 seems to give a good results for both ridge regression and LASSO.\n",
    "# For both ridge regression and LASSO all coefficient except the first four \n",
    "# are very small. Consequently, the remaining coefficients could be decreased\n",
    "# without increasing the training error too much. This is natural since the \n",
    "# data was generated from a third degree polynomial. For Lasso, some \n",
    "# coefficients are estimated to be exactly equal to zero, which is a property \n",
    "# of Lasso.\n",
    "\n"
   ]
  }
 ],
 "metadata": {
  "kernelspec": {
   "display_name": "Python 3",
   "language": "python",
   "name": "python3"
  },
  "language_info": {
   "codemirror_mode": {
    "name": "ipython",
    "version": 3
   },
   "file_extension": ".py",
   "mimetype": "text/x-python",
   "name": "python",
   "nbconvert_exporter": "python",
   "pygments_lexer": "ipython3",
   "version": "3.7.4"
  }
 },
 "nbformat": 4,
 "nbformat_minor": 1
}
